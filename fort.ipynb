{
 "cells": [
  {
   "cell_type": "code",
   "execution_count": 90,
   "metadata": {},
   "outputs": [],
   "source": [
    "import tkinter as tk\n",
    "from tkinter import filedialog\n",
    "import os\n",
    "import pandas as pd"
   ]
  },
  {
   "cell_type": "code",
   "execution_count": 82,
   "metadata": {},
   "outputs": [
    {
     "name": "stdout",
     "output_type": "stream",
     "text": [
      "Gerando Dashboards em: /home/gui/projeto-fort/teste\n"
     ]
    }
   ],
   "source": [
    "selected_path = \"\"\n",
    "\n",
    "def select_folder():\n",
    "    global selected_path \n",
    "    folder = filedialog.askdirectory()\n",
    "    selected_path = folder \n",
    "    entry_folder.delete(0, \"end\") \n",
    "    entry_folder.insert(0, folder) \n",
    "\n",
    "def generate_dashboard():\n",
    "    if selected_path:\n",
    "        print(\"Gerando Dashboards em:\", selected_path)\n",
    "        window.destroy()\n",
    "\n",
    "window = tk.Tk()\n",
    "window.geometry('640x360')\n",
    "window.title(\"Selecionar Pasta\")\n",
    "\n",
    "label = tk.Label(window, text=\"Digitar Caminho:\", padx=10)\n",
    "label.pack(side='left')\n",
    "\n",
    "entry_folder = tk.Entry(window)\n",
    "entry_folder.pack(side='left')\n",
    "\n",
    "button_ok = tk.Button(window, text=\"Procurar Caminho\", command=select_folder, padx=70)\n",
    "button_ok.pack(side='right')\n",
    "\n",
    "button_save = tk.Button(window, text=\"Salvar Caminho\", command=lambda: button_generate.place(x=240, y=310))\n",
    "button_save.pack(side='bottom', pady=70)\n",
    "\n",
    "button_generate = tk.Button(window, text=\"Gerar Dashboards\", command=generate_dashboard, padx=30)\n",
    "button_generate.pack_forget()\n",
    "\n",
    "window.mainloop()"
   ]
  },
  {
   "cell_type": "code",
   "execution_count": 88,
   "metadata": {},
   "outputs": [],
   "source": [
    "def is_any_csv(path):\n",
    "    count_csv_files = 0\n",
    "    for file in os.listdir(path):\n",
    "        if file.split('.')[-1] == 'csv':\n",
    "            count_csv_files += 1\n",
    "\n",
    "    if count_csv_files == 0:\n",
    "        return ValueError('Não há arquivos .csv para gerar o(s) dashboard(s)')"
   ]
  },
  {
   "cell_type": "code",
   "execution_count": 92,
   "metadata": {},
   "outputs": [],
   "source": [
    "df = pd.read_csv('/home/gui/projeto-fort/teste/boy, isso é um teste tlgd.csv')"
   ]
  },
  {
   "cell_type": "code",
   "execution_count": 94,
   "metadata": {},
   "outputs": [
    {
     "data": {
      "text/html": [
       "<div>\n",
       "<style scoped>\n",
       "    .dataframe tbody tr th:only-of-type {\n",
       "        vertical-align: middle;\n",
       "    }\n",
       "\n",
       "    .dataframe tbody tr th {\n",
       "        vertical-align: top;\n",
       "    }\n",
       "\n",
       "    .dataframe thead th {\n",
       "        text-align: right;\n",
       "    }\n",
       "</style>\n",
       "<table border=\"1\" class=\"dataframe\">\n",
       "  <thead>\n",
       "    <tr style=\"text-align: right;\">\n",
       "      <th></th>\n",
       "      <th>0</th>\n",
       "    </tr>\n",
       "  </thead>\n",
       "  <tbody>\n",
       "    <tr>\n",
       "      <th>professor</th>\n",
       "      <td>guilherme</td>\n",
       "    </tr>\n",
       "    <tr>\n",
       "      <th>escola</th>\n",
       "      <td>modelo</td>\n",
       "    </tr>\n",
       "    <tr>\n",
       "      <th>data</th>\n",
       "      <td>21/09/2001</td>\n",
       "    </tr>\n",
       "    <tr>\n",
       "      <th>turno</th>\n",
       "      <td>manhã</td>\n",
       "    </tr>\n",
       "    <tr>\n",
       "      <th>ano</th>\n",
       "      <td>9</td>\n",
       "    </tr>\n",
       "    <tr>\n",
       "      <th>autoavaliação</th>\n",
       "      <td>10</td>\n",
       "    </tr>\n",
       "    <tr>\n",
       "      <th>avaliação do curso</th>\n",
       "      <td>10</td>\n",
       "    </tr>\n",
       "    <tr>\n",
       "      <th>nome do formador</th>\n",
       "      <td>Noemy Vascocnelos Boto</td>\n",
       "    </tr>\n",
       "    <tr>\n",
       "      <th>domínio do conteúdo</th>\n",
       "      <td>ótimo</td>\n",
       "    </tr>\n",
       "    <tr>\n",
       "      <th>capacidade de liderança</th>\n",
       "      <td>ótimo</td>\n",
       "    </tr>\n",
       "    <tr>\n",
       "      <th>clareza</th>\n",
       "      <td>ótimo</td>\n",
       "    </tr>\n",
       "    <tr>\n",
       "      <th>relacionamento</th>\n",
       "      <td>ótimo</td>\n",
       "    </tr>\n",
       "    <tr>\n",
       "      <th>metodologia trabalhada</th>\n",
       "      <td>ótimo</td>\n",
       "    </tr>\n",
       "    <tr>\n",
       "      <th>pontos positivos</th>\n",
       "      <td>fala bem</td>\n",
       "    </tr>\n",
       "    <tr>\n",
       "      <th>pontos negativos</th>\n",
       "      <td>escuta mal</td>\n",
       "    </tr>\n",
       "    <tr>\n",
       "      <th>sugestões</th>\n",
       "      <td>trabalhar outros livros</td>\n",
       "    </tr>\n",
       "  </tbody>\n",
       "</table>\n",
       "</div>"
      ],
      "text/plain": [
       "                                               0\n",
       "professor                              guilherme\n",
       "escola                                    modelo\n",
       "data                                  21/09/2001\n",
       "turno                                      manhã\n",
       "ano                                            9\n",
       "autoavaliação                                 10\n",
       "avaliação do curso                            10\n",
       "nome do formador          Noemy Vascocnelos Boto\n",
       "domínio do conteúdo                        ótimo\n",
       "capacidade de liderança                    ótimo\n",
       "clareza                                    ótimo\n",
       "relacionamento                             ótimo\n",
       "metodologia trabalhada                     ótimo\n",
       "pontos positivos                        fala bem\n",
       "pontos negativos                      escuta mal\n",
       "sugestões                trabalhar outros livros"
      ]
     },
     "execution_count": 94,
     "metadata": {},
     "output_type": "execute_result"
    }
   ],
   "source": [
    "df.T"
   ]
  },
  {
   "cell_type": "code",
   "execution_count": null,
   "metadata": {},
   "outputs": [],
   "source": [
    "def get_aval_data():\n",
    "    return 'é isso'"
   ]
  }
 ],
 "metadata": {
  "kernelspec": {
   "display_name": "fort-dashboard",
   "language": "python",
   "name": "python3"
  },
  "language_info": {
   "codemirror_mode": {
    "name": "ipython",
    "version": 3
   },
   "file_extension": ".py",
   "mimetype": "text/x-python",
   "name": "python",
   "nbconvert_exporter": "python",
   "pygments_lexer": "ipython3",
   "version": "3.12.0"
  }
 },
 "nbformat": 4,
 "nbformat_minor": 2
}
